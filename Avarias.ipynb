{
 "cells": [
  {
   "cell_type": "code",
   "execution_count": 1,
   "metadata": {},
   "outputs": [],
   "source": [
    "from __future__ import print_function\n",
    "\n",
    "import os.path\n",
    "import pandas as pd\n",
    "\n",
    "from google.auth.transport.requests import Request\n",
    "from google.oauth2.credentials import Credentials\n",
    "from google_auth_oauthlib.flow import InstalledAppFlow\n",
    "from googleapiclient.discovery import build\n",
    "from googleapiclient.errors import HttpError\n",
    "\n",
    "\n",
    "pd.set_option('display.max_columns', None)\n",
    "pd.set_option('display.max_rows', None)\n",
    "\n",
    "# If modifying these scopes, delete the file token.json.\n",
    "SCOPES = ['https://www.googleapis.com/auth/spreadsheets']\n",
    "\n",
    "# The ID and range of a sample spreadsheet.\n",
    "SAMPLE_SPREADSHEET_ID = '14y0FLqGTA6rgvfAmwBeH8bUf_wBKDEHTH8JxXwxtSJI'\n",
    "SAMPLE_RANGE_NAME = 'FRADEE!A1:Z10000'\n",
    "\n"
   ]
  },
  {
   "cell_type": "code",
   "execution_count": 2,
   "metadata": {},
   "outputs": [],
   "source": [
    "def chama_frade():\n",
    "    \"\"\"Shows basic usage of the Sheets API.\n",
    "    Prints values from a sample spreadsheet.\n",
    "    \"\"\"\n",
    "    creds = None\n",
    "    # The file token.json stores the user's access and refresh tokens, and is\n",
    "    # created automatically when the authorization flow completes for the first\n",
    "    # time.\n",
    "    if os.path.exists('token.json'):\n",
    "        creds = Credentials.from_authorized_user_file('token.json', SCOPES)\n",
    "    # If there are no (valid) credentials available, let the user log in.\n",
    "    if not creds or not creds.valid:\n",
    "        if creds and creds.expired and creds.refresh_token:\n",
    "            creds.refresh(Request())\n",
    "        else:\n",
    "            flow = InstalledAppFlow.from_client_secrets_file(\n",
    "                'credentials.json', SCOPES)\n",
    "            creds = flow.run_local_server(port=0)\n",
    "        # Save the credentials for the next run\n",
    "        with open('token.json', 'w') as token:\n",
    "            token.write(creds.to_json())\n",
    "\n",
    "    try:\n",
    "        service = build('sheets', 'v4', credentials=creds)\n",
    "\n",
    "        # Call the Sheets API\n",
    "        sheet = service.spreadsheets()\n",
    "        result = sheet.values().get(spreadsheetId=SAMPLE_SPREADSHEET_ID,\n",
    "                                    range=SAMPLE_RANGE_NAME).execute()\n",
    "        values = result.get('values', [])\n",
    "        values = result.get('values', [])\n",
    "\n",
    "        \n",
    "    except HttpError as err:\n",
    "        print(err)\n",
    "    \n",
    "    dados_frade = pd.DataFrame(data=values, columns=values.pop(0))\n",
    "\n",
    "    return dados_frade"
   ]
  },
  {
   "cell_type": "code",
   "execution_count": null,
   "metadata": {},
   "outputs": [],
   "source": [
    "df = chama_frade()\n",
    "df.columns"
   ]
  },
  {
   "cell_type": "code",
   "execution_count": null,
   "metadata": {},
   "outputs": [],
   "source": [
    "df.head(2)"
   ]
  },
  {
   "cell_type": "code",
   "execution_count": null,
   "metadata": {},
   "outputs": [],
   "source": [
    "df2 = df[['Ticket','NF','Data Ocorrência','Ocorrência','Parceiro',' Valor ',' Produto ','Emissão','Quantidade','Categoria Produto']]\n",
    "df2.head(5)"
   ]
  },
  {
   "cell_type": "code",
   "execution_count": null,
   "metadata": {},
   "outputs": [],
   "source": [
    "fradee = df2[df2[' Produto '] != 'Carga Total']\n",
    "fradee.head(5)"
   ]
  },
  {
   "cell_type": "code",
   "execution_count": null,
   "metadata": {},
   "outputs": [],
   "source": [
    "fradee['Emissão'] = pd.to_datetime(fradee['Emissão'], format='%d/%m/%Y', errors='coerce')\n",
    "fradee = fradee.sort_values(by='Emissão', ascending=False)\n",
    "fradee['Emissão'] = fradee['Emissão'].dt.strftime('%d/%m/%Y')"
   ]
  },
  {
   "cell_type": "code",
   "execution_count": null,
   "metadata": {},
   "outputs": [],
   "source": [
    "fradee.head(5)"
   ]
  },
  {
   "cell_type": "code",
   "execution_count": null,
   "metadata": {},
   "outputs": [],
   "source": [
    "fradee.shape"
   ]
  },
  {
   "cell_type": "code",
   "execution_count": null,
   "metadata": {},
   "outputs": [],
   "source": [
    "mestre_bu = pd.read_parquet(r\"N:\\Drives compartilhados\\28 - Dados BI\\2 Dados Transformados\\2. Vendas\\2.NFs_Venda.parquet\")\n",
    "mestre_bu.columns"
   ]
  },
  {
   "cell_type": "code",
   "execution_count": null,
   "metadata": {},
   "outputs": [],
   "source": [
    "mestre_bu = mestre_bu[['Núm. NF-e', 'Data de Emissão','UF Destino']]\n",
    "mestre_bu.head(3)"
   ]
  },
  {
   "cell_type": "code",
   "execution_count": null,
   "metadata": {},
   "outputs": [],
   "source": [
    "mestre_bu['Data de Emissão'] = pd.to_datetime(mestre_bu['Data de Emissão'], format='%d/%m/%Y', errors='coerce')\n",
    "mestre_bu = mestre_bu.sort_values(by='Data de Emissão', ascending=False)\n",
    "mestre_bu['Data de Emissão'] = mestre_bu['Data de Emissão'].dt.strftime('%d/%m/%Y')\n",
    "\n",
    "mestre_bu.rename(columns={'Núm. NF-e': 'NF', 'Data de Emissão': 'Emissão'}, inplace=True)\n",
    "mestre_bu.head(3)"
   ]
  },
  {
   "cell_type": "code",
   "execution_count": null,
   "metadata": {},
   "outputs": [],
   "source": [
    "primeiros_bu = mestre_bu.groupby('NF').first().reset_index()\n",
    "df_resultado = pd.merge(fradee,primeiros_bu, on=['NF'], how='left')\n",
    "df_resultado.head(10)"
   ]
  },
  {
   "cell_type": "code",
   "execution_count": null,
   "metadata": {},
   "outputs": [],
   "source": [
    "produtos = pd.read_parquet(r\"N:\\Drives compartilhados\\28 - Dados BI\\2 Dados Transformados\\2. Produtos\\D_Produtos NeoSolar.parquet\")\n",
    "produtos = produtos[['Nome Produto', 'Codigo SKU']]\n",
    "produtos.head(3)"
   ]
  },
  {
   "cell_type": "code",
   "execution_count": null,
   "metadata": {},
   "outputs": [],
   "source": [
    "produtos.rename(columns={'Nome Produto': ' Produto ', 'Codigo SKU': 'SKU'}, inplace=True)\n",
    "produtos.head(5)"
   ]
  },
  {
   "cell_type": "code",
   "execution_count": null,
   "metadata": {},
   "outputs": [],
   "source": [
    "df_resultado.head(20)"
   ]
  },
  {
   "cell_type": "code",
   "execution_count": null,
   "metadata": {},
   "outputs": [],
   "source": [
    "# Encontre o primeiro elemento de cada grupo na tabela \"produtos\"\n",
    "primeiros_produtos = produtos.groupby(' Produto ').first().reset_index()\n",
    "primeiros_produtos.head(5)"
   ]
  },
  {
   "cell_type": "code",
   "execution_count": null,
   "metadata": {},
   "outputs": [],
   "source": [
    "# Faça o merge entre a tabela \"fradee\" e a versão modificada da tabela \"produtos\"\n",
    "Avarias = pd.merge(df_resultado, primeiros_produtos, on=' Produto ', how='left')\n",
    "Avarias.head(10)"
   ]
  },
  {
   "cell_type": "code",
   "execution_count": null,
   "metadata": {},
   "outputs": [],
   "source": [
    "Avarias.drop(columns='Emissão_y', inplace=True)\n",
    "Avarias.rename(columns={'Emissão_x': ' Emissão ', 'UF Destino': 'UF'}, inplace=True)\n",
    "Avarias.head(5)"
   ]
  },
  {
   "cell_type": "code",
   "execution_count": null,
   "metadata": {},
   "outputs": [],
   "source": [
    "\n",
    "# Supondo que você já tenha seu dataframe carregado como Avarias\n",
    "# Exemplo: Avarias = pd.read_csv('seu_arquivo.csv')\n",
    "\n",
    "# Convertendo a coluna ' Emissão ' para datetime\n",
    "Avarias[' Emissão '] = pd.to_datetime(Avarias[' Emissão '], format='%d/%m/%Y').dt.date\n",
    "\n",
    "# Filtrando para dados posteriores a 01/01/2023\n",
    "Avarias = Avarias[Avarias[' Emissão '] > pd.to_datetime('2023-01-01').date()]\n",
    "\n",
    "# Exibindo as primeiras linhas do dataframe filtrado para confirmação\n",
    "Avarias.head(5)\n"
   ]
  },
  {
   "cell_type": "code",
   "execution_count": null,
   "metadata": {},
   "outputs": [],
   "source": [
    "Avarias.shape"
   ]
  },
  {
   "cell_type": "code",
   "execution_count": null,
   "metadata": {},
   "outputs": [],
   "source": [
    "Avarias_faltantes = Avarias[Avarias[\"SKU\"].isnull()]\n",
    "Avarias_faltantes.head(15)"
   ]
  },
  {
   "cell_type": "code",
   "execution_count": 23,
   "metadata": {},
   "outputs": [],
   "source": [
    "Avarias.to_excel(\"N:/Drives compartilhados/28 - Dados BI/2 Dados Transformados/2.Frete/2.Frete_Avarias.xlsx\")\n",
    "Avarias_faltantes.to_excel(\"N:/Drives compartilhados/04 - OPERAÇÕES/70. Transporte/05_Casos de Avarias Extravios e Roubos/Avarias_SKU_faltantes.xlsx\")"
   ]
  },
  {
   "cell_type": "code",
   "execution_count": null,
   "metadata": {},
   "outputs": [],
   "source": [
    "Avarias[\"SKU\"].isnull().value_counts()"
   ]
  }
 ],
 "metadata": {
  "kernelspec": {
   "display_name": "Python 3",
   "language": "python",
   "name": "python3"
  },
  "language_info": {
   "codemirror_mode": {
    "name": "ipython",
    "version": 3
   },
   "file_extension": ".py",
   "mimetype": "text/x-python",
   "name": "python",
   "nbconvert_exporter": "python",
   "pygments_lexer": "ipython3",
   "version": "3.11.9"
  }
 },
 "nbformat": 4,
 "nbformat_minor": 2
}
