{
 "cells": [
  {
   "cell_type": "code",
   "execution_count": 5,
   "metadata": {},
   "outputs": [],
   "source": [
    "import pandas as pd\n",
    "import sys\n",
    "import time\n",
    "\n",
    "# Adicionando o caminho do diretório ao sys.path\n",
    "sys.path.append(r\"C:\\Users\\Daniel\\Desktop\\comparativo_frete\")\n",
    "from Scrap_minha_casa import executa_compara_frete_minha_casa_solar\n",
    "from Scrap_neosolar import executa_compara_frete_neosolar\n",
    "#from Scrap_energie_total import executa_compara_frete_energie_solar\n"
   ]
  },
  {
   "cell_type": "code",
   "execution_count": null,
   "metadata": {},
   "outputs": [],
   "source": [
    "# 33338 -painel 160W \n",
    "# 480 - Bomba Anauge P 100\n",
    "# 13019- Bateria MOura\n",
    "# 34405 - Painel Ztron 340W\n",
    "# 31923  - Inversor Senoidal 1000W\n",
    "product_ids_neo = ['480', '13019', '34405', '31923']\n",
    "neo = executa_compara_frete_neosolar(product_ids_neo)\n",
    "\n",
    "# 267779 -- Painel Resul 155W\n",
    "# 265164 -- Bateria Moura\n",
    "# 264790 -- Bomba P100\n",
    "# 268645 -- Painel 340W Policristalino Half-Cell\n",
    "# 269146 -- Iversor Senoidal 1000W - https://www.minhacasasolar.com.br/inversor-de-tensao-senoidal-1000w-12v-220v-hayonik-psw121-82646\n",
    "product_ids_mcs = [265164, 264790, 268645, 269146]\n",
    "mcs = executa_compara_frete_minha_casa_solar(product_ids_mcs)"
   ]
  },
  {
   "cell_type": "code",
   "execution_count": 7,
   "metadata": {},
   "outputs": [],
   "source": [
    "def trata_custo_mcs(df):\n",
    "    df['SKU'] = df['SKU'].astype(str)\n",
    "    df =  df[df['Transportadora'] != 'Retirada CD - Minha Casa Solar']\n",
    "\n",
    "    df['Custo'] = df['Custo'].str.replace(',', '')\n",
    "    df['Custo'] = df['Custo'].str.replace('.', '').astype(float)\n",
    "    df['Custo'] = df['Custo']/100\n",
    "\n",
    "    return df\n",
    "\n",
    "def trata_custo_neo(df):\n",
    "    df['SKU'] = df['SKU'].astype(str)\n",
    "    df =  df[df['Transportadora'] != 'Retirada CD - Minha Casa Solar']\n",
    "\n",
    "    df['Custo'] = df['Custo'].str.replace(r'R\\$', '', regex=True)  # Remove 'R$'\n",
    "    df['Custo'] = df['Custo'].str.replace(r'\\xa0', '', regex=True)  # Remove '\\xa0'\n",
    "    df['Custo'] = df['Custo'].str.replace(',', '.')  # Substitui vírgula por ponto e converte para float\n",
    "    df['Custo'] = df['Custo'].str.replace('.', '')\n",
    "    df['Custo'] = df['Custo'].astype(float)\n",
    "    df['Custo'] = df['Custo']/100\n",
    "\n",
    "    return df"
   ]
  },
  {
   "cell_type": "code",
   "execution_count": null,
   "metadata": {},
   "outputs": [],
   "source": [
    "neo = trata_custo_neo(neo)\n",
    "mcs = trata_custo_mcs(mcs)"
   ]
  },
  {
   "cell_type": "code",
   "execution_count": 27,
   "metadata": {},
   "outputs": [],
   "source": [
    "neo.to_excel(rf\"N:\\Drives compartilhados\\04 - OPERAÇÕES\\70. Transporte\\Acompanhamento_Entregas\\Teste Unificação\\DexPara_2024\\Comparativo_bi_operacoes\\Comparativo_frete_neo_{time.strftime('%Y-%m-%d')}.xlsx\", index=False)\n",
    "mcs.to_excel(rf\"N:\\Drives compartilhados\\04 - OPERAÇÕES\\70. Transporte\\Acompanhamento_Entregas\\Teste Unificação\\DexPara_2024\\Comparativo_bi_operacoes\\Comparativo_frete_mcs_{time.strftime('%Y-%m-%d')}.xlsx\", index=False)"
   ]
  },
  {
   "cell_type": "code",
   "execution_count": null,
   "metadata": {},
   "outputs": [],
   "source": [
    "neo.head(5)"
   ]
  },
  {
   "cell_type": "code",
   "execution_count": 11,
   "metadata": {},
   "outputs": [],
   "source": [
    "def calculamedia(tes):\n",
    "  menor_prazo_menor_custo = acha_menor_custo_menor_prazo(tes)\n",
    "\n",
    "  media = menor_prazo_menor_custo.groupby(['SKU','Empresa','UF']).agg(media_preço = ('Custo', 'mean'), media_prazo = ('Prazo', 'mean')).reset_index()\n",
    "\n",
    "  return media\n",
    "\n",
    "def acha_menor_custo_menor_prazo(tes):\n",
    "\n",
    "  # Agrupamos por 'UF' e 'SKU', e para cada grupo, pegamos a linha com o menor custo\n",
    "  min_custo_prazo_do_custo = tes.loc[tes.groupby(['SKU','CEP','UF'])['Custo'].idxmin()]\n",
    "  \n",
    "  return min_custo_prazo_do_custo\n"
   ]
  },
  {
   "cell_type": "code",
   "execution_count": 12,
   "metadata": {},
   "outputs": [],
   "source": [
    "dim_mcs = calculamedia(mcs)\n",
    "dim_neo = calculamedia(neo)"
   ]
  },
  {
   "cell_type": "code",
   "execution_count": 13,
   "metadata": {},
   "outputs": [],
   "source": [
    "def classifica_produto(df):\n",
    "    # Listas de SKUs para comparação\n",
    "    bomba_skus = ['480', '264790']\n",
    "    bateria_skus = ['13019', '265164']\n",
    "    Painel_155 = ['33338', '267779']\n",
    "    Painel_340 = ['34405','268645'] \n",
    "    Inversor_Senoidal_100W = ['31923','269146']\n",
    "\n",
    "    # Função para classificar o produto com base no SKU\n",
    "    def classify_product(sku):\n",
    "        if sku in bomba_skus:\n",
    "            return 'Bomba Solar P100'\n",
    "        elif sku in bateria_skus:\n",
    "            return 'Bateria Moura 220aH'\n",
    "        elif sku in Painel_155:\n",
    "            return 'Painel 155W'\n",
    "        elif sku in Painel_340:\n",
    "            return 'Painel 340W Ztroon'\n",
    "        elif sku in Inversor_Senoidal_100W:\n",
    "            return 'Inversor Senoidal 1000W'\n",
    "\n",
    "    # Aplicar a função para criar a nova coluna 'Produto'\n",
    "    df['Produto'] = df['SKU'].apply(classify_product)\n",
    "\n",
    "    return df"
   ]
  },
  {
   "cell_type": "code",
   "execution_count": 14,
   "metadata": {},
   "outputs": [],
   "source": [
    "dim_neo = classifica_produto(dim_neo)\n",
    "dim_mcs = classifica_produto(dim_mcs)"
   ]
  },
  {
   "cell_type": "code",
   "execution_count": 15,
   "metadata": {},
   "outputs": [],
   "source": [
    "def calcular_diferenca_e_porcentagem(df1, df2):\n",
    "    # Passo 1: Mesclar os DataFrames com base na coluna 'UF'\n",
    "    merged_df = pd.merge(df1, df2, on='UF', how='inner')\n",
    "\n",
    "    # Passo 2: Subtrair os valores das colunas 'media_preço_x' e 'media_preço_y'\n",
    "    merged_df['Dif_Preço'] = merged_df['media_preço_x'] - merged_df['media_preço_y']\n",
    "    merged_df['Dif_Prazo'] = merged_df['media_prazo_x'] - merged_df['media_prazo_y']\n",
    "\n",
    "    # Passo 3: Calcular a diferença em porcentagem e formatar as colunas\n",
    "    merged_df['%Dif_Preço'] = ((merged_df['Dif_Preço'] / merged_df['media_preço_x']) * 100).round(2)\n",
    "    merged_df['%Dif_Prazo'] = ((merged_df['Dif_Prazo'] / merged_df['media_prazo_x']) * 100).round(2)\n",
    "    #merged_df['%Dif_Preço'] = ((merged_df['Dif_Preço'] / merged_df['media_preço_x']) * 100).round(2).map(\"{:.2f}%\".format)\n",
    "    #merged_df['%Dif_Prazo'] = ((merged_df['Dif_Prazo'] / merged_df['media_prazo_x']) * 100).round(2).map(\"{:.2f}%\".format)\n",
    "\n",
    "    return merged_df"
   ]
  },
  {
   "cell_type": "code",
   "execution_count": null,
   "metadata": {},
   "outputs": [],
   "source": [
    "wdwdwd = pd.merge(dim_neo, dim_mcs, on=['Produto', 'UF'], how='inner')\n",
    "wdwdwd.head(5)"
   ]
  },
  {
   "cell_type": "code",
   "execution_count": 17,
   "metadata": {},
   "outputs": [],
   "source": [
    "def calcular_diferenca_e_porcentagem(df1, df2):\n",
    "    # Passo 1: Mesclar os DataFrames com base na coluna 'UF'\n",
    "    merged_df = pd.merge(df1, df2, on=['Produto', 'UF'], how='inner')\n",
    "\n",
    "    # Passo 2: Subtrair os valores das colunas 'media_preço_x' e 'media_preço_y'\n",
    "    merged_df['Dif_Preço'] = merged_df['media_preço_x'] - merged_df['media_preço_y']\n",
    "    merged_df['Dif_Prazo'] = merged_df['media_prazo_x'] - merged_df['media_prazo_y']\n",
    "\n",
    "    # Passo 3: Calcular a diferença em porcentagem e formatar as colunas\n",
    "    merged_df['%Dif_Preço'] = ((merged_df['Dif_Preço'] / merged_df['media_preço_x']) * 100).round(2)\n",
    "    merged_df['%Dif_Prazo'] = ((merged_df['Dif_Prazo'] / merged_df['media_prazo_x']) * 100).round(2)\n",
    "    #merged_df['%Dif_Preço'] = ((merged_df['Dif_Preço'] / merged_df['media_preço_x']) * 100).round(2).map(\"{:.2f}%\".format)\n",
    "    #merged_df['%Dif_Prazo'] = ((merged_df['Dif_Prazo'] / merged_df['media_prazo_x']) * 100).round(2).map(\"{:.2f}%\".format)\n",
    "\n",
    "    return merged_df"
   ]
  },
  {
   "cell_type": "code",
   "execution_count": null,
   "metadata": {},
   "outputs": [],
   "source": [
    "regioes = pd.read_excel(r\"N:\\Drives compartilhados\\28 - Dados BI\\2 Dados Transformados\\Tabelas dimensão\\D_Regiões e UF.xlsx\")\n",
    "regioes = regioes[['Região', 'UF']]\n",
    "regioes.head(5)"
   ]
  },
  {
   "cell_type": "code",
   "execution_count": null,
   "metadata": {},
   "outputs": [],
   "source": [
    "# chama a função para calcular a diferença e porcentagem\n",
    "comparativo_semi = calcular_diferenca_e_porcentagem(dim_neo,dim_mcs)\n",
    "comparativo_semi = pd.merge(comparativo_semi, regioes, on=['UF'], how='inner')\n",
    "comparativo_semi.head(5)"
   ]
  },
  {
   "cell_type": "code",
   "execution_count": null,
   "metadata": {},
   "outputs": [],
   "source": [
    "# Agrupando em função da região e produto\n",
    "comparativo = comparativo_semi.groupby(['Região', 'Produto'])[['%Dif_Preço', '%Dif_Prazo']].mean().reset_index()\n",
    "comparativo = comparativo.sort_values(by='Produto', ascending=True)\n",
    "comparativo['%Dif_Preço'] = comparativo['%Dif_Preço'].round(2)\n",
    "comparativo['%Dif_Prazo'] = comparativo['%Dif_Prazo'].round(2)\n",
    "comparativo"
   ]
  },
  {
   "cell_type": "code",
   "execution_count": null,
   "metadata": {},
   "outputs": [],
   "source": [
    "def style_and_round(df):\n",
    "    # Arredondar as colunas %Dif_Preço e %Dif_Prazo para 2 casas decimais\n",
    "    df['%Dif_Preço'] = df['%Dif_Preço'].round(2)\n",
    "    df['%Dif_Prazo'] = df['%Dif_Prazo'].round(2)\n",
    "    \n",
    "    # Função para colorir as células com base nos valores\n",
    "    def colorize(val):\n",
    "        if val < 0:\n",
    "            return 'background-color: green; color: white'\n",
    "        else:\n",
    "            return 'background-color: red; color: white'\n",
    "    \n",
    "    # Aplicar a função de formatação ao DataFrame\n",
    "    return df.style.applymap(colorize, subset=['%Dif_Preço', '%Dif_Prazo'])\n",
    "\n",
    "\n",
    "# Aplicar a função para arredondar e colorir\n",
    "styled_comparativo = style_and_round(comparativo)\n",
    "\n",
    "# Exibir o DataFrame estilizado\n",
    "styled_comparativo"
   ]
  },
  {
   "cell_type": "code",
   "execution_count": null,
   "metadata": {},
   "outputs": [],
   "source": [
    "import pandas as pd\n",
    "import numpy as np\n",
    "import seaborn as sns\n",
    "import matplotlib.pyplot as plt\n",
    "\n",
    "# Função para aplicar a coloração\n",
    "def color_negative_red(val):\n",
    "    color = 'red' if val > 0 else 'green'\n",
    "    return f'color: {color}'\n",
    "\n",
    "def color_negative_reds(df):\n",
    "    # Aplica a coloração apenas nas colunas de interesse\n",
    "    return df.style.applymap(color_negative_red, subset=['%Dif_Preço', '%Dif_Prazo'])\n",
    "\n",
    "# Exibindo a tabela estilizada\n",
    "styled_df = color_negative_reds(comparativo)\n",
    "styled_df\n"
   ]
  }
 ],
 "metadata": {
  "kernelspec": {
   "display_name": "Python 3",
   "language": "python",
   "name": "python3"
  },
  "language_info": {
   "codemirror_mode": {
    "name": "ipython",
    "version": 3
   },
   "file_extension": ".py",
   "mimetype": "text/x-python",
   "name": "python",
   "nbconvert_exporter": "python",
   "pygments_lexer": "ipython3",
   "version": "3.11.9"
  }
 },
 "nbformat": 4,
 "nbformat_minor": 2
}
