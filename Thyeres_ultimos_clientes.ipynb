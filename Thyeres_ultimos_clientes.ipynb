{
 "cells": [
  {
   "cell_type": "code",
   "execution_count": 25,
   "metadata": {},
   "outputs": [],
   "source": [
    "import pandas as pd\n",
    "from datetime import datetime, timedelta"
   ]
  },
  {
   "cell_type": "markdown",
   "metadata": {},
   "source": [
    "## Clientes Normais ultimos 15 dias :"
   ]
  },
  {
   "cell_type": "code",
   "execution_count": 26,
   "metadata": {},
   "outputs": [],
   "source": [
    "df =  pd.read_excel(r\"N:\\Drives compartilhados\\22 - BI\\99.Backup\\BI Operações\\Logística\\OTIF\\Cobertura.xlsx\")"
   ]
  },
  {
   "cell_type": "code",
   "execution_count": null,
   "metadata": {},
   "outputs": [],
   "source": [
    "df.head(3)"
   ]
  },
  {
   "cell_type": "code",
   "execution_count": 28,
   "metadata": {},
   "outputs": [],
   "source": [
    "df1 = df[['Nome do Destinatário','Nota Fiscal','Previsão Entrega Cliente','Situação','CEP do destinatário','Status Transportador', 'e-mail Destinatário']]"
   ]
  },
  {
   "cell_type": "code",
   "execution_count": null,
   "metadata": {},
   "outputs": [],
   "source": [
    "df1['Nota Fiscal'] = df1['Nota Fiscal'].astype(str)\n",
    "df1['Previsão Entrega Cliente'] = pd.to_datetime(df1['Previsão Entrega Cliente'], errors='coerce', format='%d/%m/%Y')"
   ]
  },
  {
   "cell_type": "code",
   "execution_count": null,
   "metadata": {},
   "outputs": [],
   "source": [
    "df1 = df1[(df1['Situação'] == \"No prazo\") & (df1['Status Transportador'] == 'Entregue')]\n",
    "df1.info()"
   ]
  },
  {
   "cell_type": "code",
   "execution_count": 31,
   "metadata": {},
   "outputs": [],
   "source": [
    "# Define a data de 12 meses atrás\n",
    "hoje = datetime.today()\n",
    "ultimos_30_dias = hoje - timedelta(days=15)\n",
    "\n",
    "# Filtra as linhas onde a data na coluna 'Previsão Entrega Cliente' está dentro do intervalo\n",
    "df_1_mes_atraz = df1[df1['Previsão Entrega Cliente'] >= ultimos_30_dias]\n"
   ]
  },
  {
   "cell_type": "code",
   "execution_count": null,
   "metadata": {},
   "outputs": [],
   "source": [
    "# Define a data de 12 meses atrás e 1 mês atrás\n",
    "hoje = datetime.today()\n",
    "data_inicio = hoje - timedelta(days=365)  # 12 meses atrás\n",
    "data_fim = hoje - timedelta(days=15)  # 1 mês atrás\n",
    "\n",
    "# Filtra as linhas onde a data está entre 12 meses atrás e 1 mês atrás\n",
    "df_ultimos_11_meses = df1[(df1['Previsão Entrega Cliente'] >= data_inicio) & (df1['Previsão Entrega Cliente'] < data_fim)]\n",
    "df_ultimos_11_meses.shape\n"
   ]
  },
  {
   "cell_type": "code",
   "execution_count": null,
   "metadata": {},
   "outputs": [],
   "source": [
    "# Filtra as linhas de df_1_mes_atraz onde o 'Nome do Destinatário' não está presente em df_ultimos_11_meses\n",
    "df_diferenca = df_1_mes_atraz[~df_1_mes_atraz['e-mail Destinatário'].isin(df_ultimos_11_meses['e-mail Destinatário'])]\n",
    "\n",
    "# Exibe o dataframe completo com os destinatários únicos em df_1_mes_atraz\n",
    "df_diferenca.head(5)\n"
   ]
  },
  {
   "cell_type": "code",
   "execution_count": null,
   "metadata": {},
   "outputs": [],
   "source": [
    "df_diferenca['Nota Fiscal'] = df_diferenca['Nota Fiscal'].astype(float).astype(int)"
   ]
  },
  {
   "cell_type": "code",
   "execution_count": null,
   "metadata": {},
   "outputs": [],
   "source": [
    "mestre = pd.read_parquet(r'N:\\Drives compartilhados\\28 - Dados BI\\2 Dados Transformados\\2. Vendas\\2.NFs_Venda.parquet')\n",
    "mestre = mestre[mestre['Fat_Somado_n_considera'].isna()]\n",
    "\n",
    "df_columns = mestre[['Data de Emissão','Núm. NF-e', 'BU Produtos']]\n",
    "df_nc = df_columns.sort_values(by='Data de Emissão', ascending=False)\n",
    "df_nc = df_columns[df_columns['BU Produtos'] =='NC']\n",
    "df_nc.rename(columns={\"Núm. NF-e\": \"Nota Fiscal\"}, inplace=True)\n",
    "df_nc.head(3)"
   ]
  },
  {
   "cell_type": "code",
   "execution_count": null,
   "metadata": {},
   "outputs": [],
   "source": [
    "df_nc = df_nc.drop_duplicates(subset=['Nota Fiscal'])\n",
    "df_nc.head(5)\n"
   ]
  },
  {
   "cell_type": "code",
   "execution_count": null,
   "metadata": {},
   "outputs": [],
   "source": [
    "data_limite = pd.to_datetime('01/01/2023', format='%d/%m/%Y')\n",
    "df_nc = df_nc[pd.to_datetime(df_nc['Data de Emissão'], format='%d/%m/%Y') > data_limite]\n",
    "df_nc.shape"
   ]
  },
  {
   "cell_type": "code",
   "execution_count": null,
   "metadata": {},
   "outputs": [],
   "source": [
    "df_diferenca.columns"
   ]
  },
  {
   "cell_type": "code",
   "execution_count": 39,
   "metadata": {},
   "outputs": [],
   "source": [
    "df_nc['Nota Fiscal'] = df_nc['Nota Fiscal'].astype(str).astype(int)"
   ]
  },
  {
   "cell_type": "code",
   "execution_count": null,
   "metadata": {},
   "outputs": [],
   "source": [
    "df_merged = pd.merge(df_diferenca, df_nc, on='Nota Fiscal', how='left')\n",
    "df_merged.head(3)"
   ]
  },
  {
   "cell_type": "code",
   "execution_count": null,
   "metadata": {},
   "outputs": [],
   "source": [
    "wpp = pd.read_parquet(r'N:\\Drives compartilhados\\28 - Dados BI\\0 Dados Brutos\\0. Neppo\\0. Clientes_WhatsApp\\0.Clientes_WhatsApp.parquet')\n",
    "\n",
    "wpp_columns = wpp[['E-mail','Nome_Contato', 'Celular']]\n",
    "\n",
    "wpp_columns.rename(columns={\"E-mail\":\"e-mail Destinatário\"}, inplace=True)"
   ]
  },
  {
   "cell_type": "code",
   "execution_count": null,
   "metadata": {},
   "outputs": [],
   "source": [
    "wpp_columns[wpp_columns['e-mail Destinatário'] == 'oeliene54@gmail.com']"
   ]
  },
  {
   "cell_type": "code",
   "execution_count": null,
   "metadata": {},
   "outputs": [],
   "source": [
    "df1[df1['e-mail Destinatário'] == 'oeliene54@gmail.com'].head(10)"
   ]
  },
  {
   "cell_type": "code",
   "execution_count": null,
   "metadata": {},
   "outputs": [],
   "source": [
    "df_merged = pd.merge(df_merged, wpp_columns, on='e-mail Destinatário', how='left')\n",
    "df_merged.head(3)"
   ]
  },
  {
   "cell_type": "code",
   "execution_count": 45,
   "metadata": {},
   "outputs": [],
   "source": [
    "df_merged.drop_duplicates(subset=['Nota Fiscal'], inplace=True)\n"
   ]
  },
  {
   "cell_type": "code",
   "execution_count": null,
   "metadata": {},
   "outputs": [],
   "source": [
    "df_merged.head(20)"
   ]
  },
  {
   "cell_type": "code",
   "execution_count": null,
   "metadata": {},
   "outputs": [],
   "source": [
    "df_charge = df_merged[df_merged['BU Produtos'].notnull()]\n",
    "df_resto = df_merged[df_merged['BU Produtos'].isnull()]\n",
    "df_resto"
   ]
  },
  {
   "cell_type": "code",
   "execution_count": 48,
   "metadata": {},
   "outputs": [],
   "source": [
    "df_charge.to_excel(r\"N:\\Drives compartilhados\\NEO\\05 - Marketing\\01 - Time Marketing\\10. Thyeres\\Automações\\Clientes_No_Prazo\\Clientes_no_prazo_NC.xlsx\", index=False)\n",
    "df_resto.to_excel(r\"N:\\Drives compartilhados\\NEO\\05 - Marketing\\01 - Time Marketing\\10. Thyeres\\Automações\\Clientes_No_Prazo\\Clientes_no_prazo.xlsx\", index=False)"
   ]
  }
 ],
 "metadata": {
  "kernelspec": {
   "display_name": "Python 3",
   "language": "python",
   "name": "python3"
  },
  "language_info": {
   "codemirror_mode": {
    "name": "ipython",
    "version": 3
   },
   "file_extension": ".py",
   "mimetype": "text/x-python",
   "name": "python",
   "nbconvert_exporter": "python",
   "pygments_lexer": "ipython3",
   "version": "3.11.9"
  }
 },
 "nbformat": 4,
 "nbformat_minor": 2
}
