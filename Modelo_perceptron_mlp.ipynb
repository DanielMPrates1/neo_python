{
  "cells": [
    {
      "cell_type": "markdown",
      "metadata": {
        "id": "Jt96aayRiIP_"
      },
      "source": [
        "**Implementação dos três algoritmos:**\n",
        "#### Perceptron Simples , MLP e MLP com duas camadas ocultas."
      ]
    },
    {
      "cell_type": "code",
      "execution_count": 166,
      "metadata": {
        "id": "1TuTy6QU8Iv1"
      },
      "outputs": [],
      "source": [
        "import numpy as np\n",
        "from sklearn.model_selection import train_test_split\n",
        "import matplotlib.pyplot as plt\n",
        "from matplotlib.colors import ListedColormap\n",
        "\n",
        "#  outras bibliotecas\n",
        "import pandas as pd\n",
        "from sklearn.metrics import confusion_matrix\n",
        "import seaborn as sb\n",
        "\n",
        "from sklearn import preprocessing as pre\n",
        "from sklearn.preprocessing import StandardScaler\n",
        "\n",
        "from imblearn.over_sampling import RandomOverSampler"
      ]
    },
    {
      "cell_type": "markdown",
      "metadata": {
        "id": "z3cJs85s8Iv2"
      },
      "source": [
        "1) Preparação do Dataframe"
      ]
    },
    {
      "cell_type": "code",
      "execution_count": 167,
      "metadata": {
        "id": "7BJhZIeZ8Iv2"
      },
      "outputs": [],
      "source": [
        "# 1.1) Gerando os dados a partir do Dataset\n",
        "df = pd.read_csv('https://raw.githubusercontent.com/LucasFCO/TP02_IA/main/star_classification.csv')"
      ]
    },
    {
      "cell_type": "code",
      "execution_count": 168,
      "metadata": {
        "id": "0exSb-am8Iv3"
      },
      "outputs": [],
      "source": [
        "# 1.2) Etapa de limpeza do DF.\n",
        "    #Exclusão de dados relacionados a catalogação dos obsjetos.\n",
        "df = df.drop('obj_ID', axis=1)\n",
        "df = df.drop('run_ID', axis=1)\n",
        "df = df.drop('rerun_ID', axis=1)\n",
        "df = df.drop('spec_obj_ID', axis=1)\n",
        "df = df.drop('fiber_ID', axis=1)\n",
        "df = df.drop('cam_col', axis=1)\n",
        "df = df.drop('plate', axis=1)\n",
        "df = df.drop('MJD', axis=1)\n",
        "\n",
        "# Excluindo os Quasares\n",
        "df = df[df['class'] != 'QSO']\n",
        "\n",
        "# alterando o rotulo dos objetos\n",
        "df['class'] = df['class'].replace('GALAXY', 0)\n",
        "df['class'] = df['class'].replace('STAR', 1)\n",
        "\n",
        "# separação das variaveis\n",
        "y = df['class']  # Alvo\n",
        "X = df.drop('class', axis= 1)  # Preditora"
      ]
    },
    {
      "cell_type": "markdown",
      "metadata": {
        "id": "9UMXq9Af8Iv3"
      },
      "source": [
        "2) Dividindo o conjunto em teste, treino e validação\n",
        "\n",
        " Divisão dos dados conforme regras do trabalho (60%, 20%, 20%)"
      ]
    },
    {
      "cell_type": "code",
      "execution_count": 169,
      "metadata": {
        "id": "WycBAmUX8Iv3"
      },
      "outputs": [],
      "source": [
        "# 60 % do total de amostras é destinada ao treino.\n",
        "X_treino, X_aux, y_treino, y_aux = train_test_split(X,y , train_size=0.6, random_state=42)\n",
        "\n",
        "# dos 40% das amostras restantes foram divididas entre teste e valadição 50% para cada.\n",
        "X_teste, X_validacao, y_teste, y_validacao = train_test_split(X_aux, y_aux, test_size=0.5, random_state=42)\n"
      ]
    },
    {
      "cell_type": "markdown",
      "metadata": {
        "id": "mMrUEduq8Iv3"
      },
      "source": [
        "3) Gerandos dados artificiais.\n",
        "* para balanceamento do conjunto de dados, sera utilizado o modelo de Over Sample, cujo objetivo é aumentar a classe minoritaria."
      ]
    },
    {
      "cell_type": "code",
      "execution_count": 170,
      "metadata": {
        "colab": {
          "base_uri": "https://localhost:8080/",
          "height": 0
        },
        "id": "K0pF8j-A8Iv3",
        "outputId": "7b5380f1-67d0-408f-8ba2-d23d64e6f1ae"
      },
      "outputs": [
        {
          "data": {
            "image/png": "[encoded data removed]",
            "text/plain": [
              "<Figure size 640x480 with 1 Axes>"
            ]
          },
          "metadata": {},
          "output_type": "display_data"
        },
        {
          "data": {
            "text/plain": [
              "class\n",
              "1    35704\n",
              "0    35704\n",
              "Name: count, dtype: int64"
            ]
          },
          "execution_count": 170,
          "metadata": {},
          "output_type": "execute_result"
        }
      ],
      "source": [
        "rus = RandomOverSampler(random_state=42)\n",
        "X_resOs, y_resOs = rus.fit_resample(X_treino, y_treino) #sempre aplicar na base de treino\n",
        "# visualização\n",
        "y_resOs.value_counts().plot.pie(autopct = '%.2f')\n",
        "plt.show()\n",
        "y_resOs.value_counts()"
      ]
    },
    {
      "cell_type": "code",
      "execution_count": 171,
      "metadata": {
        "id": "Y5oze7-38Iv4"
      },
      "outputs": [],
      "source": [
        "y_resOs = y_resOs.to_numpy()\n",
        "X_resOs = X_resOs.to_numpy()\n",
        "\n",
        "y_teste = y_teste.to_numpy()\n",
        "X_teste = X_teste.to_numpy()\n",
        "\n",
        "y_validacao = y_validacao.to_numpy()\n",
        "X_validacao = X_validacao.to_numpy()"
      ]
    },
    {
      "cell_type": "markdown",
      "metadata": {
        "id": "4cNRJIqo-TOB"
      },
      "source": [
        "Normalização (Normalization): A normalização é o processo de ajustar os valores das características para uma escala específica, frequentemente entre 0 e 1. A classe MinMaxScaler pode ser utilizada para realizar esse tipo de transformação.\n",
        "\n",
        "Padronização (Standardization): A StandardScaler é usada para padronizar os dados, ou seja, transformar os dados para que cada feature tenha uma média zero e um desvio padrão de 1. Isso é útil,em algoritmos que são sensíveis à escala dos dados."
      ]
    },
    {
      "cell_type": "code",
      "execution_count": 172,
      "metadata": {
        "id": "nY6VsODx8Iv5"
      },
      "outputs": [],
      "source": [
        "# Reshape dos rótulos para se adequar ao formato de saída da rede\n",
        "y_resOs, y_teste , y_validacao = y_resOs.reshape(-1, 1), y_teste.reshape(-1, 1), y_validacao.reshape(-1, 1)\n",
        "\n",
        "# X_resOs = pre.MinMaxScaler().fit_transform(X_resOs)\n",
        "# X_teste = pre.MinMaxScaler().fit_transform(X_teste)\n",
        "\n",
        "scaler = StandardScaler() # com o Scaler o resultado foi mais preciso\n",
        "X_resOs = scaler.fit_transform(X_resOs)\n",
        "X_validacao = scaler.fit_transform(X_validacao)\n",
        "X_teste = scaler.fit_transform(X_teste)"
      ]
    },
    {
      "cell_type": "markdown",
      "metadata": {
        "id": "InruHs_j9wSl"
      },
      "source": [
        "Algoritmo Perceptron simples"
      ]
    },
    {
      "cell_type": "code",
      "execution_count": 173,
      "metadata": {
        "id": "0OyxuQujiHxu"
      },
      "outputs": [],
      "source": [
        "class Perceptron:\n",
        "    def __init__(self, dim_entrada, taxa_aprendizado=0.01, epocas=100):\n",
        "        self.dim_entrada = dim_entrada\n",
        "        self.taxa_aprendizado = taxa_aprendizado\n",
        "        self.epocas = epocas\n",
        "        self.pesos = np.random.rand(dim_entrada + 1)  # +1 para o bias\n",
        "        self.erros = []\n",
        "\n",
        "    # Funcao Degrau\n",
        "    def funcao_ativacao(self, x):\n",
        "        return 1 if x >= 0 else 0\n",
        "\n",
        "    # Funcao de Predicao\n",
        "    def predicao(self, X):\n",
        "        X_with_bias = np.c_[X, np.ones(len(X))]\n",
        "        return np.array([self.funcao_ativacao(np.dot(x, self.pesos)) for x in X_with_bias])\n",
        "\n",
        "    # Funcao de treinamento\n",
        "    def treina(self, X, y):\n",
        "        X_with_bias = np.c_[X, np.ones(len(X))]\n",
        "        for _ in range(self.epocas):\n",
        "            total_erro = 0\n",
        "            for i in range(len(X_with_bias)):\n",
        "                erro = y[i] - self.funcao_ativacao(np.dot(X_with_bias[i], self.pesos))\n",
        "                self.pesos += self.taxa_aprendizado * erro * X_with_bias[i]\n",
        "                total_erro += int(erro != 0)\n",
        "            self.erros.append(total_erro)\n",
        "\n",
        "    def plota_erros(self):\n",
        "        plt.plot(self.erros, marker='o', label='Erros por iteração')\n",
        "        plt.xlabel('Iterações')\n",
        "        plt.ylabel('Número de erros')\n",
        "        plt.title('Erros de treinamento por iteração')\n",
        "        plt.legend()\n",
        "        plt.show()\n"
      ]
    },
    {
      "cell_type": "markdown",
      "metadata": {
        "id": "N0LmZnbW94yx"
      },
      "source": [
        "Algoritmo MLP com uma camada oculta e condição de parada alternativa para aumento do erro."
      ]
    },
    {
      "cell_type": "code",
      "execution_count": 174,
      "metadata": {
        "id": "TaWAzzIy8Iv4"
      },
      "outputs": [],
      "source": [
        "class MLP:\n",
        "    def __init__(self, dim_entrada, dim_oculta, dim_saida, taxa_aprendizado=0.01):\n",
        "        self.dim_entrada = dim_entrada\n",
        "        self.dim_oculta = dim_oculta\n",
        "        self.dim_saida = dim_saida\n",
        "        self.taxa_aprendizado = taxa_aprendizado\n",
        "\n",
        "        # Inicialização dos pesos e bias das camadas oculta e de saída\n",
        "        self.pesos_ocultos = np.random.rand(self.dim_entrada, self.dim_oculta)\n",
        "        self.bias_ocultos = np.zeros(self.dim_oculta)\n",
        "\n",
        "        self.pesos_saida = np.random.rand(self.dim_oculta, self.dim_saida)\n",
        "        self.bias_saida = np.zeros(self.dim_saida)\n",
        "\n",
        "        self.erro_medio_treino = []\n",
        "        self.erro_medio_validacao = []\n",
        "    # Funcao de Ativacao Sigmoide\n",
        "    def sigmoide(self, x):\n",
        "        return 1 / (1 + np.exp(-x))\n",
        "\n",
        "    # Derivada Primeirada Funcao de Ativacao Sigmoide\n",
        "    def sigmoide_derivada(self, x):\n",
        "        return x * (1 - x)\n",
        "\n",
        "    # Calculo da saída da rede MLP\n",
        "    def feedforward(self, X):\n",
        "        # Calculo da saida da Camada oculta\n",
        "        camada_oculta_entrada = np.dot(X, self.pesos_ocultos) + self.bias_ocultos\n",
        "        camada_oculta_saida = self.sigmoide(camada_oculta_entrada)\n",
        "\n",
        "        # Calculo da saida da Camada de saída\n",
        "        camada_saida_entrada = np.dot(camada_oculta_saida, self.pesos_saida) + self.bias_saida\n",
        "        saida = self.sigmoide(camada_saida_entrada)\n",
        "\n",
        "        return camada_oculta_saida, saida\n",
        "\n",
        "    def backpropagation(self, X, y, camada_oculta_saida, saida):\n",
        "        # Backpropagation\n",
        "        saida_erro = y - saida\n",
        "\n",
        "        saida_delta = saida_erro * self.sigmoide_derivada(saida)\n",
        "\n",
        "        camada_oculta_erro = saida_delta.dot(self.pesos_saida.T)\n",
        "        camada_oculta_delta = camada_oculta_erro * self.sigmoide_derivada(camada_oculta_saida)\n",
        "\n",
        "        # Atualização dos pesos e bias\n",
        "        self.pesos_saida += camada_oculta_saida.T.dot(saida_delta) * self.taxa_aprendizado\n",
        "        self.bias_saida += np.sum(saida_delta, axis=0) * self.taxa_aprendizado\n",
        "\n",
        "        self.pesos_ocultos += X.T.dot(camada_oculta_delta) * self.taxa_aprendizado\n",
        "        self.bias_ocultos += np.sum(camada_oculta_delta, axis=0) * self.taxa_aprendizado\n",
        "\n",
        "    def fit(self, X_treino, y_treino, X_validacao, y_validacao, epocas=1000):\n",
        "        saida_erro_treino = []\n",
        "        saida_erro_validacao = []\n",
        "        somav = 0\n",
        "        somat = 0\n",
        "        i = 0\n",
        "        aux = 0\n",
        "        for epoca in range(epocas):\n",
        "            # Forward propagation\n",
        "            # dados de treino.\n",
        "            camada_oculta_saida, saida = self.feedforward(X_treino)\n",
        "\n",
        "            erro_treino = y_treino - saida\n",
        "            saida_erro_treino.append(erro_treino)\n",
        "            self.erro_medio_treino.append(np.mean(saida_erro_treino)**2)\n",
        "\n",
        "            # dados de validação\n",
        "            camada_oculta_saida_validacao, saida_validacao = self.feedforward(X_validacao) # dados de validacao, não irá para o backpropagation.\n",
        "\n",
        "            erro_validacao = y_validacao - saida_validacao\n",
        "            saida_erro_validacao.append(erro_validacao)\n",
        "\n",
        "            self.erro_medio_validacao.append(np.mean(saida_erro_validacao)**2)\n",
        "\n",
        "            if aux == 10 :\n",
        "                if somav > somat:\n",
        "                    # print('somav maior')\n",
        "                    break\n",
        "                aux = 0\n",
        "            somat += self.erro_medio_treino[i]\n",
        "            somav += self.erro_medio_validacao[i]\n",
        "            i +=1\n",
        "            aux += 1\n",
        "            # Backpropagation\n",
        "            self.backpropagation(X_treino, y_treino, camada_oculta_saida, saida)\n",
        "        print(i ,' ST: ',somat ,' - SV: ',somav)\n",
        "\n",
        "    def predicao(self, X):\n",
        "        _, saida = self.feedforward(X)\n",
        "        return saida\n",
        "\n",
        "        # Função para plotar a superfície de decisão\n",
        "\n",
        "    def plot_decision_surface(self, X, y):\n",
        "      h = .02  # Passo da grade\n",
        "      x_min, x_max = X[:, 0].min() - 1, X[:, 0].max() + 1\n",
        "      y_min, y_max = X[:, 1].min() - 1, X[:, 1].max() + 1\n",
        "      xx, yy = np.meshgrid(np.arange(x_min, x_max, h), np.arange(y_min, y_max, h))\n",
        "      grid_points = np.c_[xx.ravel(), yy.ravel()]\n",
        "\n",
        "      Z = self.predicao(grid_points)\n",
        "      Z = Z.reshape(xx.shape)\n",
        "\n",
        "      cmap_light = ListedColormap(['#FFAAAA', '#AAFFAA'])\n",
        "      cmap_bold = ListedColormap(['#FF0000', '#00FF00'])\n",
        "\n",
        "      plt.figure(figsize=(8, 6))\n",
        "      plt.pcolormesh(xx, yy, Z, cmap=cmap_light)\n",
        "\n",
        "      # Plotar os pontos de treinamento\n",
        "      plt.scatter(X[:, 0], X[:, 1], c=y, cmap=cmap_bold, edgecolor='k', s=30)\n",
        "      plt.xlim(xx.min(), xx.max())\n",
        "      plt.ylim(yy.min(), yy.max())\n",
        "      plt.title(\"Superfície de Decisão da Rede MLP\")\n",
        "      plt.xlabel(\"Feature 1\")\n",
        "      plt.ylabel(\"Feature 2\")\n",
        "      plt.show()\n"
      ]
    },
    {
      "cell_type": "markdown",
      "metadata": {
        "id": "TmFs6umu-GGL"
      },
      "source": [
        "Algoritmo MLP com duas camadas ocultas e condição de parada alternativa para aumento do erro.."
      ]
    },
    {
      "cell_type": "code",
      "execution_count": 175,
      "metadata": {
        "id": "_92DFsHu8Iv5"
      },
      "outputs": [],
      "source": [
        "class MLP2: #codigo com duas camadas\n",
        "    def __init__(self, dim_entrada, dim_oculta1, dim_oculta2, dim_saida, taxa_aprendizado=0.01):\n",
        "        self.dim_entrada = dim_entrada\n",
        "        self.dim_oculta1 = dim_oculta1\n",
        "        self.dim_oculta2 = dim_oculta2  # segundo parametro\n",
        "        self.dim_saida = dim_saida\n",
        "        self.taxa_aprendizado = taxa_aprendizado\n",
        "\n",
        "        # Inicialização dos pesos e bias das camadas ocultas e de saída\n",
        "        self.pesos_ocultos1 = np.random.rand(self.dim_entrada, self.dim_oculta1)\n",
        "        self.bias_ocultos1 = np.zeros(self.dim_oculta1)\n",
        "\n",
        "        self.pesos_ocultos2 = np.random.rand(self.dim_oculta1, self.dim_oculta2)    # pesos da segunda camada\n",
        "        self.bias_ocultos2 = np.zeros(self.dim_oculta2)                             # bias da segunda camada oculta\n",
        "\n",
        "        self.pesos_saida = np.random.rand(self.dim_oculta2, self.dim_saida)\n",
        "        self.bias_saida = np.zeros(self.dim_saida)\n",
        "\n",
        "        self.erro_medio_treino = []\n",
        "        self.erro_medio_validacao = []\n",
        "\n",
        "    # Funcao de Ativacao Sigmoide\n",
        "    def sigmoide(self, x):\n",
        "        return 1 / (1 + np.exp(-x))\n",
        "\n",
        "    # Derivada Primeirada Funcao de Ativacao Sigmoide\n",
        "    def sigmoide_derivada(self, x):\n",
        "        return x * (1 - x)\n",
        "\n",
        "    # Calculo da saída da rede MLP\n",
        "    def feedforward(self, X):\n",
        "        # Calculo da saida da 1ª Camada oculta\n",
        "        camada_oculta1_entrada = np.dot(X, self.pesos_ocultos1) + self.bias_ocultos1\n",
        "        camada_oculta1_saida = self.sigmoide(camada_oculta1_entrada)\n",
        "\n",
        "        # Calculo da saida da 2ª Camada oculta\n",
        "        camada_oculta2_entrada = np.dot(camada_oculta1_saida, self.pesos_ocultos2) + self.bias_ocultos2\n",
        "        camada_oculta2_saida = self.sigmoide(camada_oculta2_entrada)\n",
        "\n",
        "        # Calculo da saida da Camada de saída\n",
        "        camada_saida_entrada = np.dot(camada_oculta2_saida, self.pesos_saida) + self.bias_saida\n",
        "        saida = self.sigmoide(camada_saida_entrada)\n",
        "\n",
        "        return camada_oculta1_saida, camada_oculta2_saida, saida\n",
        "\n",
        "    def backpropagation(self, X, y, camada_oculta1_saida, camada_oculta2_saida, saida):\n",
        "        # Backpropagation\n",
        "        saida_erro = y - saida\n",
        "        saida_delta = saida_erro * self.sigmoide_derivada(saida)\n",
        "\n",
        "        # A camada_oculta2_erro é calculada antes da camada_oculta1_erro porque,\n",
        "        # a saída da segunda camada oculta é utilizada para calcular a saída final.\n",
        "\n",
        "        camada_oculta2_erro = saida_delta.dot(self.pesos_saida.T)\n",
        "        camada_oculta2_delta = camada_oculta2_erro * self.sigmoide_derivada(camada_oculta2_saida)\n",
        "\n",
        "        camada_oculta1_erro = camada_oculta2_delta.dot(self.pesos_ocultos2.T)\n",
        "        camada_oculta1_delta = camada_oculta1_erro * self.sigmoide_derivada(camada_oculta1_saida)\n",
        "\n",
        "        # Atualização dos pesos e bias\n",
        "        self.pesos_saida += camada_oculta2_saida.T.dot(saida_delta) * self.taxa_aprendizado\n",
        "        self.bias_saida += np.sum(saida_delta, axis=0) * self.taxa_aprendizado\n",
        "\n",
        "        self.pesos_ocultos2 += camada_oculta1_saida.T.dot(camada_oculta2_delta) * self.taxa_aprendizado\n",
        "        self.bias_ocultos2 += np.sum(camada_oculta2_delta, axis=0) * self.taxa_aprendizado\n",
        "\n",
        "        self.pesos_ocultos1 += X.T.dot(camada_oculta1_delta) * self.taxa_aprendizado\n",
        "        self.bias_ocultos1 += np.sum(camada_oculta1_delta, axis=0) * self.taxa_aprendizado\n",
        "\n",
        "    def fit(self, X_treino, y_treino, X_validacao, y_validacao, epocas=1000):\n",
        "        saida_erro_treino = []\n",
        "        saida_erro_validacao = []\n",
        "        somav = 0\n",
        "        somat = 0\n",
        "        i = 0\n",
        "        aux = 0\n",
        "        for epoca in range(epocas):\n",
        "            # Forward propagation\n",
        "            # dados de treino.\n",
        "            camada_oculta1_saida, camada_oculta2_saida, saida = self.feedforward(X_treino)\n",
        "\n",
        "            erro_treino = y_treino - saida\n",
        "            saida_erro_treino.append(erro_treino)\n",
        "            self.erro_medio_treino.append(np.mean(saida_erro_treino)**2)\n",
        "\n",
        "            # dados de validação\n",
        "            camada_oculta1_saida_validacao, camada_oculta2_saida_validacao,saida_validacao = self.feedforward(X_validacao) # dados de validacao, não irá para o backpropagation.\n",
        "\n",
        "            erro_validacao = y_validacao - saida_validacao\n",
        "            saida_erro_validacao.append(erro_validacao)\n",
        "\n",
        "            self.erro_medio_validacao.append(np.mean(saida_erro_validacao)**2)\n",
        "\n",
        "            if aux == 10 :\n",
        "                if somav > somat:\n",
        "                    break\n",
        "                aux = 0\n",
        "            somat += self.erro_medio_treino[i]\n",
        "            somav += self.erro_medio_validacao[i]\n",
        "            i +=1\n",
        "            aux += 1\n",
        "\n",
        "            # Backpropagation\n",
        "            self.backpropagation(X_treino, y_treino, camada_oculta1_saida, camada_oculta2_saida, saida)\n",
        "        print(i ,' ST: ',somat ,' - SV: ',somav)\n",
        "\n",
        "    def predicao(self, X):\n",
        "        _, _, saida = self.feedforward(X)\n",
        "        return saida\n",
        "\n",
        "\n",
        "    # Função para plotar a superfície de decisão\n",
        "    def plot_decision_surface(self, X, y):\n",
        "      h = .02  # Passo da grade\n",
        "      x_min, x_max = X[:, 0].min() - 1, X[:, 0].max() + 1\n",
        "      y_min, y_max = X[:, 1].min() - 1, X[:, 1].max() + 1\n",
        "      xx, yy = np.meshgrid(np.arange(x_min, x_max, h), np.arange(y_min, y_max, h))\n",
        "      grid_points = np.c_[xx.ravel(), yy.ravel()]\n",
        "\n",
        "      Z = self.predicao(grid_points)\n",
        "      Z = Z.reshape(xx.shape)\n",
        "\n",
        "      cmap_light = ListedColormap(['#FFAAAA', '#AAFFAA'])\n",
        "      cmap_bold = ListedColormap(['#FF0000', '#00FF00'])\n",
        "\n",
        "      plt.figure(figsize=(8, 6))\n",
        "      plt.pcolormesh(xx, yy, Z, cmap=cmap_light)\n",
        "\n",
        "      # Plotar os pontos de treinamento\n",
        "      plt.scatter(X[:, 0], X[:, 1], c=y, cmap=cmap_bold, edgecolor='k', s=30)\n",
        "      plt.xlim(xx.min(), xx.max())\n",
        "      plt.ylim(yy.min(), yy.max())\n",
        "      plt.title(\"Superfície de Decisão da Rede MLP\")\n",
        "      plt.xlabel(\"Feature 1\")\n",
        "      plt.ylabel(\"Feature 2\")\n",
        "      plt.show()"
      ]
    },
    {
      "cell_type": "markdown",
      "metadata": {
        "id": "J5McAa8V8Iv5"
      },
      "source": [
        "## **Parte de testes.**"
      ]
    },
    {
      "cell_type": "markdown",
      "metadata": {
        "id": "eHGCpNXp8Iv5"
      },
      "source": [
        "1) Modelo Perceptrom"
      ]
    },
    {
      "cell_type": "code",
      "execution_count": 176,
      "metadata": {
        "id": "i4v709Ym8Iv6"
      },
      "outputs": [
        {
          "name": "stderr",
          "output_type": "stream",
          "text": [
            "C:\\Users\\Lucas\\AppData\\Local\\Temp\\ipykernel_7516\\665550272.py:26: DeprecationWarning: Conversion of an array with ndim > 0 to a scalar is deprecated, and will error in future. Ensure you extract a single element from your array before performing this operation. (Deprecated NumPy 1.25.)\n",
            "  total_erro += int(erro != 0)\n"
          ]
        }
      ],
      "source": [
        "modelo = Perceptron(dim_entrada=9, taxa_aprendizado=0.1, epocas=800) # se subir o numero de epocas o algoritmo perde a precisão\n",
        "modelo.treina(X_resOs[:150], y_resOs[:150])\n",
        "\n",
        "previsto = modelo.predicao(X_teste)\n",
        "\n",
        "acuracia = np.mean(previsto ==  y_teste)*100\n",
        "# modelo.plota_erros()\n",
        "\n",
        "matriz1 = confusion_matrix(y_teste, previsto)\n"
      ]
    },
    {
      "cell_type": "markdown",
      "metadata": {
        "id": "EZLdyvqs8Iv6"
      },
      "source": [
        "2) Criando e treinando a MLP"
      ]
    },
    {
      "cell_type": "code",
      "execution_count": 177,
      "metadata": {
        "colab": {
          "base_uri": "https://localhost:8080/"
        },
        "id": "eF6CooYY8Iv6",
        "outputId": "8521da0d-976c-489d-bd83-c509723ab62e"
      },
      "outputs": [
        {
          "name": "stdout",
          "output_type": "stream",
          "text": [
            "300  ST:  4.2132526656468485  - SV:  4.249300668888922\n"
          ]
        }
      ],
      "source": [
        "quantidade_dimensoes = 9 #um valor qualquer entre 1 e 8, represnta as features do df.\n",
        "epocas = 1000# numero limite de quantas vezes o modelo passará pelo df.\n",
        "quantidade_treinamento = 150  # o dimensionamento de quantidades é apenas para ter um ajuste mais controlado em menor tempo.\n",
        "dim_oculta= 30\n",
        "\n",
        "mlp = MLP(dim_entrada=quantidade_dimensoes, dim_oculta=dim_oculta, dim_saida=1, taxa_aprendizado=0.1)\n",
        "# execução do donjuto de treinamento.\n",
        "mlp.fit(X_resOs[0:quantidade_treinamento, 0:quantidade_dimensoes], y_resOs[0:quantidade_treinamento], X_validacao[0:quantidade_treinamento, 0:quantidade_dimensoes], y_validacao[0:quantidade_treinamento] ,epocas=epocas)\n",
        "# execução do donjuto de validação.\n",
        "# mlp.fit(X_validacao[0:quantidade_treinamento, 0:quantidade_dimensoes], y_validacao[0:quantidade_treinamento], epocas=epocas, validacao= True)\n",
        "\n",
        "# execução do conjuto de destes\n",
        "saida_prevista = mlp.predicao(X_teste[:, 0:quantidade_dimensoes])\n",
        "\n",
        "# Convertendo as previsões para classes (0 ou 1)\n",
        "predicao_classes = (saida_prevista > 0.5).astype(int)\n",
        "\n",
        "acuracia2 = np.mean(predicao_classes == y_teste)*100\n",
        "\n",
        "matriz2 = confusion_matrix(y_teste, predicao_classes)\n"
      ]
    },
    {
      "cell_type": "markdown",
      "metadata": {
        "id": "kl-uZHpp8Iv6"
      },
      "source": [
        "3) Criando e treinando a MLP com duas camadas\n",
        "\n",
        "*   Item da lista\n",
        "*   Item da lista\n",
        "\n"
      ]
    },
    {
      "cell_type": "code",
      "execution_count": 178,
      "metadata": {
        "colab": {
          "base_uri": "https://localhost:8080/"
        },
        "id": "zKNeHPbX8Iv6",
        "outputId": "9671ec6c-3980-4655-8c79-966a68b46b19"
      },
      "outputs": [
        {
          "name": "stdout",
          "output_type": "stream",
          "text": [
            "10  ST:  5.377777235136067  - SV:  5.475999400941386\n"
          ]
        }
      ],
      "source": [
        "quantidade_dimensoes = 9 #um valor qualquer entre 1 e 8, represnta as features do df.\n",
        "epocas = 1000# numero limite de quantas vezes o modelo passará pelo df.\n",
        "quantidade_treinamento = 150  # o dimensionamento de quantidades é apenas para ter um ajuste mais controlado em menor tempo.\n",
        "dim_oculta1= 62\n",
        "dim_oculta2= 55\n",
        "\n",
        "mlp = MLP2(dim_entrada=quantidade_dimensoes, dim_oculta1=dim_oculta1, dim_oculta2=dim_oculta2,dim_saida=1, taxa_aprendizado=0.1)\n",
        "# mlp.fit(X_resOs[0:quantidade_treinamento, 0:quantidade_dimensoes], y_resOs[0:quantidade_treinamento], epocas=epocas)\n",
        "mlp.fit(X_resOs[0:quantidade_treinamento, 0:quantidade_dimensoes], y_resOs[0:quantidade_treinamento], X_validacao[0:quantidade_treinamento, 0:quantidade_dimensoes], y_validacao[0:quantidade_treinamento] ,epocas=epocas)\n",
        "\n",
        "\n",
        "saida_prevista = mlp.predicao(X_teste[:, 0:quantidade_dimensoes])\n",
        "# Convertendo as previsões para classes (0 ou 1)\n",
        "predicao_classes = (saida_prevista > 0.5).astype(int)\n",
        "acuracia3= np.mean(predicao_classes == y_teste)*100\n",
        "\n",
        "matriz3 = confusion_matrix(y_teste, predicao_classes)"
      ]
    },
    {
      "cell_type": "markdown",
      "metadata": {
        "id": "U_iIKcMKaAeI"
      },
      "source": [
        "## **Parte de visualização dos resultados**"
      ]
    },
    {
      "cell_type": "code",
      "execution_count": 179,
      "metadata": {
        "colab": {
          "base_uri": "https://localhost:8080/"
        },
        "id": "jZSzOH-H8Iv6",
        "outputId": "37b49af4-f0f3-47d4-ea54-a512a58751fc"
      },
      "outputs": [
        {
          "name": "stdout",
          "output_type": "stream",
          "text": [
            "Acurácia Perceptron: 52.15 %\n",
            "Acurácia da MLP: 81.45 %\n",
            "Acurácia da MLP2: 27.14 %\n"
          ]
        }
      ],
      "source": [
        "print(f'Acurácia Perceptron: {round(acuracia,2)} %')\n",
        "print(f'Acurácia da MLP: {round(acuracia2,2)} %')\n",
        "print(f'Acurácia da MLP2: {round(acuracia3,2)} %')"
      ]
    },
    {
      "cell_type": "code",
      "execution_count": 184,
      "metadata": {},
      "outputs": [
        {
          "data": {
            "text/plain": [
              "16208"
            ]
          },
          "execution_count": 184,
          "metadata": {},
          "output_type": "execute_result"
        }
      ],
      "source": [
        "len(y_teste)"
      ]
    },
    {
      "cell_type": "code",
      "execution_count": 180,
      "metadata": {
        "colab": {
          "base_uri": "https://localhost:8080/",
          "height": 508
        },
        "id": "jpDejBBt8Iv6",
        "outputId": "1c0a24ad-51aa-4f5e-d362-410c4b53b648"
      },
      "outputs": [
        {
          "data": {
            "image/png": "[encoded data removed]",
            "text/plain": [
              "<Figure size 640x480 with 1 Axes>"
            ]
          },
          "metadata": {},
          "output_type": "display_data"
        }
      ],
      "source": [
        "y = [acuracia , acuracia2 , acuracia3]\n",
        "mods = [\"Perceptron\", \"MLP\", \"MLP_2C\"]\n",
        "\n",
        "fig1, ax1 = plt.subplots(layout='constrained')\n",
        "\n",
        "rec = ax1.bar(mods, y)\n",
        "\n",
        "ax1.bar_label(rec, padding=3)\n",
        "ax1.set_title('Acuracia obtida por modelo - (%)')\n",
        "\n",
        "plt.show()"
      ]
    },
    {
      "cell_type": "code",
      "execution_count": 181,
      "metadata": {
        "colab": {
          "base_uri": "https://localhost:8080/",
          "height": 427
        },
        "id": "a7mCQM0F8Iv7",
        "outputId": "ad8d0d69-cfbc-4512-e7bb-fdb5e0cc86a9"
      },
      "outputs": [
        {
          "data": {
            "text/plain": [
              "Text(627.9949494949494, 0.5, 'Real')"
            ]
          },
          "execution_count": 181,
          "metadata": {},
          "output_type": "execute_result"
        },
        {
          "data": {
            "image/png": "[encoded data removed]",
            "text/plain": [
              "<Figure size 1200x400 with 4 Axes>"
            ]
          },
          "metadata": {},
          "output_type": "display_data"
        }
      ],
      "source": [
        "figura = plt.figure(figsize=(12,4))\n",
        "xticklabels = '-', '+'\n",
        "yticklabels = '-', '+'\n",
        "\n",
        "figura.add_subplot(121)\n",
        "fig = sb.heatmap((matriz1),annot=True, fmt='.0f',  xticklabels=xticklabels, yticklabels=yticklabels)\n",
        "plt.title('Matriz 1 - Perceptron')\n",
        "plt.xlabel('Previsto')\n",
        "plt.ylabel('Real')\n",
        "\n",
        "figura.add_subplot(122)\n",
        "plt.title('Matriz 2 - MLP')\n",
        "fig2 = sb.heatmap((matriz2),annot=True, fmt='.0f',  xticklabels=xticklabels, yticklabels=yticklabels)\n",
        "plt.xlabel('Previsto')\n",
        "plt.ylabel('Real')"
      ]
    },
    {
      "cell_type": "code",
      "execution_count": 182,
      "metadata": {
        "colab": {
          "base_uri": "https://localhost:8080/",
          "height": 410
        },
        "id": "GoBnFbWKICR6",
        "outputId": "2b9aeb67-7b25-4d33-f926-3b1f9f43d5ba"
      },
      "outputs": [
        {
          "data": {
            "image/png": "[encoded data removed]",
            "text/plain": [
              "<Figure size 500x400 with 2 Axes>"
            ]
          },
          "metadata": {},
          "output_type": "display_data"
        }
      ],
      "source": [
        "figura = plt.figure(figsize=(5,4))\n",
        "figura.add_subplot(111)\n",
        "plt.title('Matriz 3 - MLP 2 camadas')\n",
        "fig3 = sb.heatmap((matriz3),annot=True, fmt='.0f',  xticklabels=xticklabels, yticklabels=yticklabels)\n",
        "plt.xlabel('Previsto')\n",
        "plt.ylabel('Real')\n",
        "# figura.add_subplot(222)\n",
        "plt.show(figura)"
      ]
    },
    {
      "cell_type": "code",
      "execution_count": 183,
      "metadata": {
        "colab": {
          "base_uri": "https://localhost:8080/",
          "height": 508
        },
        "id": "mWhjPVae8Iv7",
        "outputId": "41a59255-11e5-4f81-fe0e-ac5372123027"
      },
      "outputs": [
        {
          "data": {
            "image/png": "[encoded data removed]",
            "text/plain": [
              "<Figure size 640x480 with 1 Axes>"
            ]
          },
          "metadata": {},
          "output_type": "display_data"
        }
      ],
      "source": [
        "vp1 = matriz1[1][1]\n",
        "fp1 = matriz1[0][1]\n",
        "vn1 = matriz1[0][0]\n",
        "fn1 = matriz1[1][0]\n",
        "\n",
        "vp2 = matriz2[1][1]\n",
        "fp2 = matriz2[0][1]\n",
        "vn2 = matriz2[0][0]\n",
        "fn2 = matriz2[1][0]\n",
        "\n",
        "vp3 = matriz2[1][1]\n",
        "fp3 = matriz2[0][1]\n",
        "vn3 = matriz3[0][0]\n",
        "fn3 = matriz3[1][0]\n",
        "\n",
        "modelos = (\"Perceptron\", \"MLP\", \"MLP_2C\")\n",
        "mat_conf = {\n",
        "    'VP': (vp1,vp2,vp3),\n",
        "    'FP': (fp1,fp2,fp3),\n",
        "    'VN': (vn1,vn2,vn3),\n",
        "    'FN': (fn1, fn2, fn3)\n",
        "\n",
        "}\n",
        "# print(mat_conf)\n",
        "x = np.arange(len(modelos))  # the label locations\n",
        "width = 0.25  # the width of the bars\n",
        "multiplier = 0\n",
        "\n",
        "fig, ax = plt.subplots(layout='constrained')\n",
        "\n",
        "for attribute, measurement in mat_conf.items():\n",
        "    offset = width * multiplier\n",
        "    rects = ax.bar(x + offset, measurement, width, label=attribute)\n",
        "    ax.bar_label(rects, padding=3)\n",
        "    multiplier += 1\n",
        "\n",
        "# Rorulos\n",
        "ax.set_title('Resultado Mat. Conf. por modelo')\n",
        "ax.set_ylabel('Respostas obitidas')\n",
        "ax.set_xticks(x + width, modelos)\n",
        "ax.legend(loc='upper left', ncols=4)\n",
        "plt.show()"
      ]
    }
  ],
  "metadata": {
    "colab": {
      "provenance": []
    },
    "kernelspec": {
      "display_name": "Python 3",
      "name": "python3"
    },
    "language_info": {
      "codemirror_mode": {
        "name": "ipython",
        "version": 3
      },
      "file_extension": ".py",
      "mimetype": "text/x-python",
      "name": "python",
      "nbconvert_exporter": "python",
      "pygments_lexer": "ipython3",
      "version": "3.11.5"
    }
  },
  "nbformat": 4,
  "nbformat_minor": 0
}
