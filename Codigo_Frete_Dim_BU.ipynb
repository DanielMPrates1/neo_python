{
 "cells": [
  {
   "cell_type": "code",
   "execution_count": 1,
   "metadata": {},
   "outputs": [],
   "source": [
    "import pandas as pd\n",
    "import seaborn as sns\n",
    "import matplotlib as plt\n",
    "\n",
    "\n",
    "from sklearn.preprocessing import OneHotEncoder\n",
    "from sklearn.compose import ColumnTransformer"
   ]
  },
  {
   "cell_type": "markdown",
   "metadata": {},
   "source": [
    "#### Part 2"
   ]
  },
  {
   "cell_type": "code",
   "execution_count": 2,
   "metadata": {},
   "outputs": [],
   "source": [
    "df = pd.read_parquet(r'N:\\Drives compartilhados\\28 - Dados BI\\2 Dados Transformados\\2. Vendas\\2.NFs_Venda.parquet')\n",
    "df = df[df['Fat_Somado_n_considera'].isna()]\n",
    "\n",
    "df_columns = df[['Data de Emissão','Núm. NF-e', 'BU Produtos', 'N1']]"
   ]
  },
  {
   "cell_type": "code",
   "execution_count": 3,
   "metadata": {},
   "outputs": [],
   "source": [
    "condicao = df_columns['N1'] == 'Material Elétrico'\n",
    "\n",
    "# Em seguida, você altera a coluna 'BU Produtos' para 'Neutro' nessas linhas\n",
    "df_columns.loc[condicao, 'BU Produtos'] = 'Neutro'"
   ]
  },
  {
   "cell_type": "code",
   "execution_count": 4,
   "metadata": {},
   "outputs": [],
   "source": [
    "condicao = df_columns['N1'] == 'Estrutura de Montagem'\n",
    "\n",
    "# Em seguida, você altera a coluna 'BU Produtos' para 'Neutro' nessas linhas\n",
    "df_columns.loc[condicao, 'BU Produtos'] = 'Neutro'"
   ]
  },
  {
   "cell_type": "code",
   "execution_count": null,
   "metadata": {},
   "outputs": [],
   "source": [
    "df_columns['BU Produtos'].value_counts()"
   ]
  },
  {
   "cell_type": "code",
   "execution_count": 6,
   "metadata": {},
   "outputs": [],
   "source": [
    "data_limite = pd.to_datetime('01/01/2022', format='%d/%m/%Y')\n",
    "df_columns = df_columns[pd.to_datetime(df_columns['Data de Emissão'], format='%d/%m/%Y') > data_limite]"
   ]
  },
  {
   "cell_type": "code",
   "execution_count": 7,
   "metadata": {},
   "outputs": [],
   "source": [
    "df = pd.get_dummies(df_columns, columns=['BU Produtos'], dtype=int, prefix_sep='', prefix='')\n",
    "#df = df.drop(columns='Data de Emissão')\n",
    "df = df.groupby('Núm. NF-e').agg({'Data de Emissão': 'first', 'GD': 'sum', 'NC': 'sum', 'OG': 'sum', 'PE': 'sum'}).reset_index()\n",
    "\n",
    "\n",
    "# Função para determinar o valor da coluna 'BU'\n",
    "def seleciona(row):\n",
    "    if row['GD'] > 0 and (row['OG'] >= 0):\n",
    "        return 'GD'\n",
    "    elif (row['NC'] > 0 ) and (row['OG'] >= 0) :\n",
    "        return 'NC'\n",
    "    elif row['OG'] > 0 and row['GD'] == 0 and row['NC'] == 0 and row['PE'] == 0 :\n",
    "        return 'OG'\n",
    "    else:\n",
    "        return '0'\n",
    "    \n",
    "    \n",
    "def projeto_especial(row):\n",
    "    if row['PE'] > 0 :\n",
    "        return '1'\n",
    "    \n",
    "# Adicionando a coluna 'BU' ao DataFrame\n",
    "df['BU'] = df.apply(seleciona, axis=1)\n",
    "\n",
    "df['Proj_Especial'] = df.apply(projeto_especial, axis=1)\n",
    "\n",
    "\n"
   ]
  },
  {
   "cell_type": "code",
   "execution_count": null,
   "metadata": {},
   "outputs": [],
   "source": [
    "df['Data de Emissão'].iloc[0]"
   ]
  },
  {
   "cell_type": "code",
   "execution_count": 9,
   "metadata": {},
   "outputs": [],
   "source": [
    "df_final = df[df['Núm. NF-e'] != '']"
   ]
  },
  {
   "cell_type": "code",
   "execution_count": 10,
   "metadata": {},
   "outputs": [],
   "source": [
    "df_final = df_final.rename(columns={'Núm. NF-e' : 'NF', 'Data de Emissão': 'Data' })"
   ]
  },
  {
   "cell_type": "code",
   "execution_count": null,
   "metadata": {},
   "outputs": [],
   "source": [
    "df_final.head(5)"
   ]
  },
  {
   "cell_type": "code",
   "execution_count": null,
   "metadata": {},
   "outputs": [],
   "source": [
    "df_final['Data'].min()"
   ]
  },
  {
   "cell_type": "code",
   "execution_count": 13,
   "metadata": {},
   "outputs": [],
   "source": [
    "df_final.to_excel(r'N:\\Drives compartilhados\\22 - BI\\6.Data_Engineering\\1.Automacoes\\3.Operacoes\\1. Logistica\\Dimensionalidade_BU\\Frete_Dim_BU.xlsx', index = False)\n",
    "df_final.to_excel(r'N:\\Drives compartilhados\\28 - Dados BI\\2 Dados Transformados\\2.Frete\\2.Frete_Dim_BU.xlsx')\n",
    "#df_final.to_parquet(r'N:\\Drives compartilhados\\13 - CUSTOS E PRECIFICAÇÃO\\02.Precificação\\5. Acompanhamento de margem Frete Junho\\2.Frete_Dim_BU.parquet')\n"
   ]
  }
 ],
 "metadata": {
  "kernelspec": {
   "display_name": "Python 3",
   "language": "python",
   "name": "python3"
  },
  "language_info": {
   "codemirror_mode": {
    "name": "ipython",
    "version": 3
   },
   "file_extension": ".py",
   "mimetype": "text/x-python",
   "name": "python",
   "nbconvert_exporter": "python",
   "pygments_lexer": "ipython3",
   "version": "3.11.9"
  }
 },
 "nbformat": 4,
 "nbformat_minor": 2
}
