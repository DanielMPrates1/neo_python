{
 "cells": [
  {
   "cell_type": "code",
   "execution_count": 1,
   "metadata": {},
   "outputs": [],
   "source": [
    "import pandas as pd # Importa biblioteca Pandas"
   ]
  },
  {
   "cell_type": "code",
   "execution_count": 2,
   "metadata": {},
   "outputs": [],
   "source": [
    "# Importa as faturas SP e Faturas MG\n",
    "sp = pd.read_excel(r'N:\\Drives compartilhados\\04 - OPERAÇÕES\\70. Transporte\\02_Faturas\\Faturas_New.xlsx', sheet_name='Mestre')\n",
    "mg = pd.read_excel(r'N:\\Drives compartilhados\\04 - OPERAÇÕES\\70. Transporte\\02_Faturas\\Faturas MG.xlsx', sheet_name = 'Mestre')"
   ]
  },
  {
   "cell_type": "code",
   "execution_count": 3,
   "metadata": {},
   "outputs": [],
   "source": [
    "# Dropa as colunas não utilizaveis dos 2 Dataframes\n",
    "dropa_sp = ['Fatura', 'Resp','Data de Emissão',\t'Comentários',\t'Data de Verif',\t'Diferença %', 'Status'\t] #'Unnamed: 14', 'Unnamed: 15, 'Data de Emissão''\n",
    "dropa_mg = ['Fatura', 'Resp', 'Data de Emissão','Coluna1', 'data de conferência',\t'Diferença %',\t'Status']"
   ]
  },
  {
   "cell_type": "code",
   "execution_count": 4,
   "metadata": {},
   "outputs": [],
   "source": [
    "# Dropa as colunas não utilizaveis dos 2 Dataframes\n",
    "sp = sp.drop(columns = dropa_sp)\n",
    "mg = mg.drop(columns = dropa_mg)\n"
   ]
  },
  {
   "cell_type": "code",
   "execution_count": 5,
   "metadata": {},
   "outputs": [],
   "source": [
    "# Cria a coluna Origem para identificar de onde a Nota Fiscal eh oriunda. \n",
    "sp['Origem'] = 'Faturas SP'\n",
    "mg['Origem'] = 'Faturas MG'"
   ]
  },
  {
   "cell_type": "code",
   "execution_count": null,
   "metadata": {},
   "outputs": [],
   "source": [
    "#Concatena os 2 dataframes em um só.\n",
    "faturas = pd.concat([mg, sp], ignore_index=True)\n",
    "faturas"
   ]
  },
  {
   "cell_type": "code",
   "execution_count": 7,
   "metadata": {},
   "outputs": [],
   "source": [
    "# Função que indetifica as Taxas de Zona Rural e demais taxas.\n",
    "def identifica(motivo):\n",
    "    taxas = [\"TDE\", \"TZR\", \"TDA\"]\n",
    "    return motivo in taxas"
   ]
  },
  {
   "cell_type": "code",
   "execution_count": null,
   "metadata": {},
   "outputs": [],
   "source": [
    "# Criação das colunas referente a 'Promo Frete' e 'Taxas'.\n",
    "faturas[\"Promo\"] = faturas.apply(lambda row: row[\"Cobrado\"] if row[\"Motivo\"] == \"Promo Frete\" else None, axis=1)\n",
    "faturas[\"Taxas\"] = faturas.apply(lambda row: row[\"Cobrado\"] if identifica(row[\"Motivo\"]) else None, axis=1) # Chama a função Indentifica para encontrar as taxas.\n",
    "faturas"
   ]
  },
  {
   "cell_type": "code",
   "execution_count": null,
   "metadata": {},
   "outputs": [],
   "source": [
    "# Agrupa todas as notas fiscais do dataframe para não ter Relacionamento de (*:*) com a base Mestre.\n",
    "soma = ['Transportadora', 'Cobrado', 'Recebido ','Diferença', 'Motivo', 'Promo', 'Novo Cobrado','Taxas', 'Origem' ]\n",
    "faturas = faturas.groupby('NF')[soma].sum().reset_index()\n",
    "faturas"
   ]
  },
  {
   "cell_type": "code",
   "execution_count": null,
   "metadata": {},
   "outputs": [],
   "source": [
    "# Tratamento preguiçoso da coluna Origem.\n",
    "faturas['Origem'] = faturas['Origem'].str.replace('Faturas MGFaturas MG', 'Faturas MG', case=False)\n",
    "faturas['Origem'] = faturas['Origem'].str.replace('Faturas MGFaturas MGFaturas MG', 'Faturas MG', case=False)\n",
    "faturas['Origem'] = faturas['Origem'].str.replace('Faturas MGFaturas MGFaturas MGFaturas MG', 'Faturas MG', case=False)\n",
    "faturas['Origem'] = faturas['Origem'].str.replace('Faturas MGFaturas MGFaturas MGFaturas MGFaturas MG', 'Faturas MG', case=False)\n",
    "faturas['Origem'] = faturas['Origem'].str.replace('Faturas SP', 'Faturas SP', case=False)\n",
    "faturas['Origem'] = faturas['Origem'].str.replace('Faturas SPFaturas SP', 'Faturas SP', case=False)\n",
    "faturas['Origem'] = faturas['Origem'].str.replace('Faturas SPFaturas SPFaturas SP', 'Faturas SP', case=False)\n",
    "faturas['Origem'] = faturas['Origem'].str.replace('Faturas SPFaturas SPFaturas SPFaturas SPFaturas SP', 'Faturas SP', case=False)\n",
    "faturas"
   ]
  },
  {
   "cell_type": "code",
   "execution_count": null,
   "metadata": {},
   "outputs": [],
   "source": [
    "faturas = faturas.iloc[:-4]\n",
    "faturas"
   ]
  },
  {
   "cell_type": "code",
   "execution_count": 13,
   "metadata": {},
   "outputs": [],
   "source": [
    "#Salva o arquivo\n",
    "#faturas.to_excel(r'N:\\Drives compartilhados\\22 - BI\\BI Operações\\Logística\\Custo de Frete\\Faturas.xlsx', index = False) # Salva Faturas para o Bi tradicional\n",
    "faturas.to_excel(r'N:\\Drives compartilhados\\28 - Dados BI\\2 Dados Transformados\\2.Frete\\2.Frete_Transportadora.xlsx', index = False) # Salva Faturas para o Data Product"
   ]
  }
 ],
 "metadata": {
  "kernelspec": {
   "display_name": "Python 3",
   "language": "python",
   "name": "python3"
  },
  "language_info": {
   "codemirror_mode": {
    "name": "ipython",
    "version": 3
   },
   "file_extension": ".py",
   "mimetype": "text/x-python",
   "name": "python",
   "nbconvert_exporter": "python",
   "pygments_lexer": "ipython3",
   "version": "3.11.9"
  },
  "orig_nbformat": 4
 },
 "nbformat": 4,
 "nbformat_minor": 2
}
